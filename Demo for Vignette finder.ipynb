{
 "cells": [
  {
   "cell_type": "code",
   "execution_count": 1,
   "metadata": {},
   "outputs": [
    {
     "name": "stderr",
     "output_type": "stream",
     "text": [
      "Using TensorFlow backend.\n"
     ]
    }
   ],
   "source": [
    "import warnings, re\n",
    "warnings.filterwarnings(\"ignore\")\n",
    "from ipywidgets import  Image, VBox, Label, HBox, FileUpload\n",
    "from keras.models import Sequential, Model, load_model\n",
    "from keras.preprocessing import image\n",
    "import numpy as np\n",
    "import pandas as pd"
   ]
  },
  {
   "cell_type": "code",
   "execution_count": 2,
   "metadata": {},
   "outputs": [],
   "source": [
    "input_shape = (720,720,3)\n",
    "cls = load_model(\"inception_based.h5\")\n",
    "fltr = re.compile(\"C[A-Z]Y\")"
   ]
  },
  {
   "cell_type": "code",
   "execution_count": 3,
   "metadata": {},
   "outputs": [],
   "source": [
    "data = pd.read_csv('test_names.csv')\n",
    "data.columns=['filename']\n",
    "data['label'] = data.applymap(lambda x: 1 if len(fltr.findall(x)) > 0 else 0)"
   ]
  },
  {
   "cell_type": "code",
   "execution_count": 4,
   "metadata": {},
   "outputs": [],
   "source": [
    "def get_image(img_file, dir_name='Test'):\n",
    "    with open('D:/OGRDS/Image Classification/{}/'.format(dir_name)+img_file, 'rb') as f:\n",
    "        return f.read()\n",
    "\n",
    "def test_iterator(data,dir_name='Test', batch_size=32):\n",
    "    train_files = data.values\n",
    "    i = 0\n",
    "    features = []\n",
    "    for file in train_files:\n",
    "        yield preprocess_image(file[0], dir_name)\n",
    "    \n",
    "def preprocess_image(img_file, dir_name='Test'):\n",
    "    img = image.load_img('D:/OGRDS/Image Classification/{}/'.format(dir_name)+img_file, target_size=input_shape)\n",
    "    img = image.img_to_array(img)\n",
    "    img = img/255\n",
    "    return np.array([img])\n",
    "\n",
    "def display_images(upc):\n",
    "    test_data = data[data.filename.str.contains(upc)]\n",
    "    test_labels = cls.predict_generator(test_iterator(test_data,'Test'), steps=len(test_data))\n",
    "    test_data['prediction'] = list(map(np.argmax,test_labels))\n",
    "\n",
    "    grid = HBox()\n",
    "    boxes = []\n",
    "    for row in test_data.values:\n",
    "        img = HBox([Image(value=get_image(row[0], 'Test'), width=100,height=100)])\n",
    "        if row[2] == 1:\n",
    "            img.layout.justify_content = 'space-around'\n",
    "            img.layout.border = '3px solid green'\n",
    "        with open('correct.png' if row[1] == row[2] else 'wrong.png', 'rb') as f:\n",
    "            R_W = Image(value=f.read(), format='png', width=20,height=20)\n",
    "\n",
    "        boxes.append(VBox([img,R_W]))\n",
    "\n",
    "\n",
    "    grid.children = boxes\n",
    "    grid.layout.flex_flow = 'row wrap'\n",
    "    grid.layout.justify_content = 'space-between'\n",
    "    grid.layout.align_content = 'center'\n",
    "    grid.layout.width = '80%'\n",
    "    display(grid)"
   ]
  },
  {
   "cell_type": "code",
   "execution_count": null,
   "metadata": {},
   "outputs": [],
   "source": [
    "display_images('0070942123518')"
   ]
  },
  {
   "cell_type": "code",
   "execution_count": 4,
   "metadata": {},
   "outputs": [],
   "source": [
    "a = FileUpload(multiple = True)"
   ]
  },
  {
   "cell_type": "code",
   "execution_count": 5,
   "metadata": {},
   "outputs": [
    {
     "data": {
      "application/vnd.jupyter.widget-view+json": {
       "model_id": "affbde4417d846709eac799224ad1f04",
       "version_major": 2,
       "version_minor": 0
      },
      "text/plain": [
       "FileUpload(value={}, description='Upload', multiple=True)"
      ]
     },
     "metadata": {},
     "output_type": "display_data"
    }
   ],
   "source": [
    "a"
   ]
  },
  {
   "cell_type": "code",
   "execution_count": 41,
   "metadata": {},
   "outputs": [
    {
     "data": {
      "text/plain": [
       "[{'lastModified': 1559246462000,\n",
       "  'name': 'AE_0070942123518_NPPFM_C100_C_20190501171328554.jpg',\n",
       "  'size': 184104,\n",
       "  'type': 'image/jpeg'},\n",
       " {'lastModified': 1559246462000,\n",
       "  'name': 'AE_0070942123518_NPPFM_C100_C_20190501171334592.jpg',\n",
       "  'size': 169056,\n",
       "  'type': 'image/jpeg'},\n",
       " {'lastModified': 1559246496000,\n",
       "  'name': 'AE_3073781011456_NPPFM_C100_C_20180217160028778.jpg',\n",
       "  'size': 125082,\n",
       "  'type': 'image/jpeg'},\n",
       " {'lastModified': 1559246496000,\n",
       "  'name': 'AE_3073781011456_NPPFM_C100_C_20180217160029592.jpg',\n",
       "  'size': 130051,\n",
       "  'type': 'image/jpeg'}]"
      ]
     },
     "execution_count": 41,
     "metadata": {},
     "output_type": "execute_result"
    }
   ],
   "source": [
    "a.metadata"
   ]
  },
  {
   "cell_type": "code",
   "execution_count": 27,
   "metadata": {},
   "outputs": [],
   "source": [
    "grid = VBox()"
   ]
  },
  {
   "cell_type": "code",
   "execution_count": 38,
   "metadata": {},
   "outputs": [],
   "source": [
    "grid.children = [Image(value=x, width=100, height=100) for x in a.data]\n"
   ]
  },
  {
   "cell_type": "code",
   "execution_count": 40,
   "metadata": {},
   "outputs": [
    {
     "data": {
      "application/vnd.jupyter.widget-view+json": {
       "model_id": "b2cc05874023440681e8b5af70d98bb3",
       "version_major": 2,
       "version_minor": 0
      },
      "text/plain": [
       "VBox(children=(Image(value=b'\\xff\\xd8\\xff\\xe0\\x00\\x10JFIF\\x00\\x01\\x01\\x00\\x00\\x01\\x00\\x01\\x00\\x00\\xff\\xdb\\x00C…"
      ]
     },
     "metadata": {},
     "output_type": "display_data"
    }
   ],
   "source": [
    "grid.layout.flex_flow = 'row wrap'\n",
    "grid.layout.justify_content = 'space-between'\n",
    "grid.layout.align_content = 'center'\n",
    "grid.layout.width = '80%'\n",
    "grid"
   ]
  }
 ],
 "metadata": {
  "kernelspec": {
   "display_name": "Python 3",
   "language": "python",
   "name": "python3"
  },
  "language_info": {
   "codemirror_mode": {
    "name": "ipython",
    "version": 3
   },
   "file_extension": ".py",
   "mimetype": "text/x-python",
   "name": "python",
   "nbconvert_exporter": "python",
   "pygments_lexer": "ipython3",
   "version": "3.5.0"
  }
 },
 "nbformat": 4,
 "nbformat_minor": 2
}
