{
 "cells": [
  {
   "cell_type": "code",
   "execution_count": 1,
   "metadata": {},
   "outputs": [],
   "source": [
    "import shutil\n",
    "import csv\n",
    "\n",
    "with open('D:/OGRDS/Image Classification/file_names.csv', 'rt', encoding='ascii') as f:\n",
    "    #lis = [str(line.rstrip().split()) for line in f]        # create a list of lists\n",
    "    read = csv.reader(f)\n",
    "    vingette = []\n",
    "    non_v = []\n",
    "    count = 0\n",
    "    for v in read:\n",
    "        if v[0].__contains__('CYY') or v[0].__contains__('CNY'):\n",
    "            vingette.append(v[0])\n",
    "        else:\n",
    "            non_v.append(v[0])\n",
    "   # print(vingette)\n",
    "   # for l in non_v:\n",
    "    #    shutil.move(\"C:/Users/1334427/Desktop/Image recognition/response_9992999_1559245665/\"+l, \"C:/Users/1334427/Desktop/Image recognition/Train/\"+l)\n"
   ]
  },
  {
   "cell_type": "code",
   "execution_count": 5,
   "metadata": {},
   "outputs": [],
   "source": [
    "    f.close()"
   ]
  },
  {
   "cell_type": "code",
   "execution_count": 6,
   "metadata": {},
   "outputs": [
    {
     "name": "stdout",
     "output_type": "stream",
     "text": [
      "34278 8569 42848 3076\n"
     ]
    }
   ],
   "source": [
    "   print(int(len(non_v)*0.8),int(len(non_v)*0.2),len(non_v),len(vingette))"
   ]
  },
  {
   "cell_type": "code",
   "execution_count": 7,
   "metadata": {},
   "outputs": [],
   "source": [
    "     for l in non_v[:int(len(non_v)*0.2)]:\n",
    "        shutil.move(\"D:/OGRDS/Image Classification/Train/\"+l, \"D:/OGRDS/Image Classification/Test/\"+l)\n",
    " "
   ]
  },
  {
   "cell_type": "code",
   "execution_count": null,
   "metadata": {},
   "outputs": [],
   "source": []
  },
  {
   "cell_type": "code",
   "execution_count": 19,
   "metadata": {},
   "outputs": [],
   "source": [
    "    #for l in vingette:\n",
    "   #     shutil.move(\"C:/Users/1334427/Desktop/Image recognition/response_9992999_1559245665/\"+l, \"C:/Users/1334427/Desktop/Image recognition/Train_target/\"+l)\n"
   ]
  },
  {
   "cell_type": "code",
   "execution_count": 8,
   "metadata": {},
   "outputs": [],
   "source": [
    "    for l in vingette[:int(len(vingette)*0.2)]:\n",
    "        shutil.move(\"D:/OGRDS/Image Classification/Train/\"+l, \"D:/OGRDS/Image Classification/Test/\"+l)\n",
    " "
   ]
  },
  {
   "cell_type": "code",
   "execution_count": null,
   "metadata": {},
   "outputs": [],
   "source": [
    "    "
   ]
  }
 ],
 "metadata": {
  "kernelspec": {
   "display_name": "Python 3",
   "language": "python",
   "name": "python3"
  },
  "language_info": {
   "codemirror_mode": {
    "name": "ipython",
    "version": 3
   },
   "file_extension": ".py",
   "mimetype": "text/x-python",
   "name": "python",
   "nbconvert_exporter": "python",
   "pygments_lexer": "ipython3",
   "version": "3.5.0"
  }
 },
 "nbformat": 4,
 "nbformat_minor": 2
}
